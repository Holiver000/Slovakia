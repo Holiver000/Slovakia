{
  "nbformat": 4,
  "nbformat_minor": 0,
  "metadata": {
    "colab": {
      "provenance": [],
      "authorship_tag": "ABX9TyPDXOqA0BzqjTQguXl1YCwW",
      "include_colab_link": true
    },
    "kernelspec": {
      "name": "python3",
      "display_name": "Python 3"
    },
    "language_info": {
      "name": "python"
    }
  },
  "cells": [
    {
      "cell_type": "markdown",
      "metadata": {
        "id": "view-in-github",
        "colab_type": "text"
      },
      "source": [
        "<a href=\"https://colab.research.google.com/github/Holiver000/Slovakia/blob/main/Movie1.ipynb\" target=\"_parent\"><img src=\"https://colab.research.google.com/assets/colab-badge.svg\" alt=\"Open In Colab\"/></a>"
      ]
    },
    {
      "cell_type": "code",
      "execution_count": null,
      "metadata": {
        "id": "b1jyiL51jeNf"
      },
      "outputs": [],
      "source": []
    },
    {
      "cell_type": "markdown",
      "source": [
        "# Tvorba hry\n",
        "Movie with two options in the end.After it makes the next part. Only one is correct."
      ],
      "metadata": {
        "id": "ic_YtqkCjgSA"
      }
    },
    {
      "cell_type": "code",
      "source": [
        "# prompt: Movie with two options in the end.After it makes the next part. Only one is correct.\n",
        "\n",
        "def play_movie_with_options():\n",
        "    print(\"You are watching a movie...\")\n",
        "    print(\"The movie presents you with a choice:\")\n",
        "    print(\"Option A: Go left\")\n",
        "    print(\"Option B: Go right\")\n",
        "\n",
        "    choice = input(\"Enter your choice (A or B): \").upper()\n",
        "\n",
        "    if choice == 'A':\n",
        "        print(\"\\nYou chose Option A. This leads to a thrilling chase scene!\")\n",
        "        play_chase_scene() # Call the next part based on the correct choice\n",
        "    elif choice == 'B':\n",
        "        print(\"\\nYou chose Option B. This leads to a dead end and the movie ends abruptly.\")\n",
        "        print(\"Game Over.\")\n",
        "    else:\n",
        "        print(\"\\nInvalid choice. The movie continues without your input...\")\n",
        "        # You could add a default action or loop back here\n",
        "        play_default_continuation() # Example of a default path\n",
        "\n",
        "def play_chase_scene():\n",
        "    print(\"\\n--- Starting Chase Scene ---\")\n",
        "    print(\"Cars are swerving, tires are squealing...\")\n",
        "    print(\"You manage to escape!\")\n",
        "    print(\"The movie continues with the aftermath.\")\n",
        "    play_aftermath()\n",
        "\n",
        "def play_aftermath():\n",
        "    print(\"\\n--- Starting Aftermath ---\")\n",
        "    print(\"You catch your breath and assess the situation.\")\n",
        "    print(\"The story unfolds...\")\n",
        "    # Continue the movie/story here\n",
        "\n",
        "def play_default_continuation():\n",
        "     print(\"\\n--- Default Continuation ---\")\n",
        "     print(\"The movie awkwardly skips to the next scene.\")\n",
        "     print(\"The story continues...\")\n",
        "     # Continue the movie/story here\n",
        "\n",
        "\n",
        "# Start the movie\n",
        "play_movie_with_options()\n"
      ],
      "metadata": {
        "id": "Pc5Lpc1xjhnv"
      },
      "execution_count": null,
      "outputs": []
    }
  ]
}